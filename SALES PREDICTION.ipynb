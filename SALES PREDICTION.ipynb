{
 "cells": [
  {
   "cell_type": "markdown",
   "id": "321e1788",
   "metadata": {},
   "source": [
    "# Project Name - SALES PREDICTION"
   ]
  },
  {
   "cell_type": "markdown",
   "id": "e7fbf185",
   "metadata": {},
   "source": [
    "## Objective\n",
    "**To build a Model that can predict the sales of a product**"
   ]
  },
  {
   "cell_type": "markdown",
   "id": "f8f88b3b",
   "metadata": {},
   "source": [
    "# AUTHOR :- ABDULLAHI LABARAN "
   ]
  },
  {
   "cell_type": "code",
   "execution_count": 1,
   "id": "12e8d027",
   "metadata": {},
   "outputs": [],
   "source": [
    "#importing necessary libraries\n",
    "import pandas as pd\n",
    "import numpy as np\n",
    "import matplotlib.pyplot as plt\n",
    "import seaborn as sns\n",
    "from sklearn.model_selection import train_test_split\n",
    "from sklearn.linear_model import LinearRegression"
   ]
  },
  {
   "cell_type": "markdown",
   "id": "2c9db6a1",
   "metadata": {},
   "source": [
    "**Reading and loading the data**"
   ]
  },
  {
   "cell_type": "code",
   "execution_count": 2,
   "id": "8d5e2ab7",
   "metadata": {},
   "outputs": [
    {
     "data": {
      "text/html": [
       "<div>\n",
       "<style scoped>\n",
       "    .dataframe tbody tr th:only-of-type {\n",
       "        vertical-align: middle;\n",
       "    }\n",
       "\n",
       "    .dataframe tbody tr th {\n",
       "        vertical-align: top;\n",
       "    }\n",
       "\n",
       "    .dataframe thead th {\n",
       "        text-align: right;\n",
       "    }\n",
       "</style>\n",
       "<table border=\"1\" class=\"dataframe\">\n",
       "  <thead>\n",
       "    <tr style=\"text-align: right;\">\n",
       "      <th></th>\n",
       "      <th>Unnamed: 0</th>\n",
       "      <th>TV</th>\n",
       "      <th>Radio</th>\n",
       "      <th>Newspaper</th>\n",
       "      <th>Sales</th>\n",
       "    </tr>\n",
       "  </thead>\n",
       "  <tbody>\n",
       "    <tr>\n",
       "      <th>0</th>\n",
       "      <td>1</td>\n",
       "      <td>230.1</td>\n",
       "      <td>37.8</td>\n",
       "      <td>69.2</td>\n",
       "      <td>22.1</td>\n",
       "    </tr>\n",
       "    <tr>\n",
       "      <th>1</th>\n",
       "      <td>2</td>\n",
       "      <td>44.5</td>\n",
       "      <td>39.3</td>\n",
       "      <td>45.1</td>\n",
       "      <td>10.4</td>\n",
       "    </tr>\n",
       "    <tr>\n",
       "      <th>2</th>\n",
       "      <td>3</td>\n",
       "      <td>17.2</td>\n",
       "      <td>45.9</td>\n",
       "      <td>69.3</td>\n",
       "      <td>9.3</td>\n",
       "    </tr>\n",
       "    <tr>\n",
       "      <th>3</th>\n",
       "      <td>4</td>\n",
       "      <td>151.5</td>\n",
       "      <td>41.3</td>\n",
       "      <td>58.5</td>\n",
       "      <td>18.5</td>\n",
       "    </tr>\n",
       "    <tr>\n",
       "      <th>4</th>\n",
       "      <td>5</td>\n",
       "      <td>180.8</td>\n",
       "      <td>10.8</td>\n",
       "      <td>58.4</td>\n",
       "      <td>12.9</td>\n",
       "    </tr>\n",
       "  </tbody>\n",
       "</table>\n",
       "</div>"
      ],
      "text/plain": [
       "   Unnamed: 0     TV  Radio  Newspaper  Sales\n",
       "0           1  230.1   37.8       69.2   22.1\n",
       "1           2   44.5   39.3       45.1   10.4\n",
       "2           3   17.2   45.9       69.3    9.3\n",
       "3           4  151.5   41.3       58.5   18.5\n",
       "4           5  180.8   10.8       58.4   12.9"
      ]
     },
     "execution_count": 2,
     "metadata": {},
     "output_type": "execute_result"
    }
   ],
   "source": [
    "data = pd.read_csv('C:\\\\Users\\\\USER\\\\Downloads\\\\Advertising.csv')\n",
    "data.head()"
   ]
  },
  {
   "cell_type": "markdown",
   "id": "66b8a2a5",
   "metadata": {},
   "source": [
    "**Checking if the data contains Null value**"
   ]
  },
  {
   "cell_type": "code",
   "execution_count": 3,
   "id": "d098d26c",
   "metadata": {
    "scrolled": true
   },
   "outputs": [
    {
     "name": "stdout",
     "output_type": "stream",
     "text": [
      "Unnamed: 0    0\n",
      "TV            0\n",
      "Radio         0\n",
      "Newspaper     0\n",
      "Sales         0\n",
      "dtype: int64\n"
     ]
    }
   ],
   "source": [
    "print(data.isnull().sum())"
   ]
  },
  {
   "cell_type": "markdown",
   "id": "36c402d1",
   "metadata": {},
   "source": [
    "**Checking the Correlation**"
   ]
  },
  {
   "cell_type": "code",
   "execution_count": 4,
   "id": "4182d3fe",
   "metadata": {},
   "outputs": [
    {
     "data": {
      "image/png": "[encoded data removed]",
      "text/plain": [
       "<Figure size 864x720 with 2 Axes>"
      ]
     },
     "metadata": {},
     "output_type": "display_data"
    }
   ],
   "source": [
    "plt.style.use('seaborn-whitegrid')\n",
    "plt.figure(figsize=(12, 10))\n",
    "sns.heatmap(data.corr())\n",
    "plt.show()"
   ]
  },
  {
   "cell_type": "markdown",
   "id": "fb0aa22a",
   "metadata": {},
   "source": [
    "**Training the model**"
   ]
  },
  {
   "cell_type": "code",
   "execution_count": 5,
   "id": "38f33585",
   "metadata": {},
   "outputs": [],
   "source": [
    "x = np.array(data.drop(labels=[\"Sales\"],axis=1))\n",
    "y = np.array(data[\"Sales\"])\n",
    "xtrain, xtest, ytrain, ytest = train_test_split(x, y, test_size=0.2, random_state=42)\n",
    "model = LinearRegression()\n",
    "model.fit(xtrain, ytrain)\n",
    "ypred = model.predict(xtest)"
   ]
  },
  {
   "cell_type": "code",
   "execution_count": 6,
   "id": "e18f90b7",
   "metadata": {},
   "outputs": [
    {
     "name": "stdout",
     "output_type": "stream",
     "text": [
      "    Predicted Sales\n",
      "0         16.412277\n",
      "1         20.843193\n",
      "2         21.511869\n",
      "3         10.653100\n",
      "4         22.124058\n",
      "5         13.123835\n",
      "6         21.037489\n",
      "7          7.503854\n",
      "8         13.647870\n",
      "9         15.120409\n",
      "10         9.020556\n",
      "11         6.706666\n",
      "12        14.401551\n",
      "13         8.886090\n",
      "14         9.743533\n",
      "15        12.215520\n",
      "16         8.713709\n",
      "17        16.294145\n",
      "18        10.268023\n",
      "19        18.804982\n",
      "20        19.588647\n",
      "21        13.223183\n",
      "22        12.364787\n",
      "23        21.314736\n",
      "24         7.797347\n",
      "25         5.781900\n",
      "26        20.749348\n",
      "27        11.954767\n",
      "28         9.199109\n",
      "29         8.521787\n",
      "30        12.404313\n",
      "31         9.948652\n",
      "32        21.368803\n",
      "33        12.253748\n",
      "34        18.299435\n",
      "35        20.133474\n",
      "36        14.074646\n",
      "37        20.885947\n",
      "38        11.052150\n",
      "39         4.551687\n"
     ]
    }
   ],
   "source": [
    "data = pd.DataFrame(data={\"Predicted Sales\": ypred.flatten()})\n",
    "print(data)"
   ]
  },
  {
   "cell_type": "code",
   "execution_count": 7,
   "id": "a91213b2",
   "metadata": {},
   "outputs": [
    {
     "data": {
      "image/png": "[encoded data removed]",
      "text/plain": [
       "<Figure size 432x288 with 1 Axes>"
      ]
     },
     "metadata": {},
     "output_type": "display_data"
    }
   ],
   "source": [
    "plt.plot(ypred,color='red',label='predicted')\n",
    "plt.plot(ytrain,color='blue',label=\"actual\")\n",
    "plt.xlabel(\"Date\")\n",
    "plt.ylabel(\"Sales\")\n",
    "leg = plt.legend()\n",
    "plt.show()"
   ]
  },
  {
   "cell_type": "markdown",
   "id": "2fb5d960",
   "metadata": {},
   "source": [
    "# SUMMARY \n"
   ]
  },
  {
   "cell_type": "markdown",
   "id": "4ad0891c",
   "metadata": {},
   "source": [
    "**In this project we have trained a machine learning model for sales prediction**"
   ]
  }
 ],
 "metadata": {
  "kernelspec": {
   "display_name": "Python 3 (ipykernel)",
   "language": "python",
   "name": "python3"
  },
  "language_info": {
   "codemirror_mode": {
    "name": "ipython",
    "version": 3
   },
   "file_extension": ".py",
   "mimetype": "text/x-python",
   "name": "python",
   "nbconvert_exporter": "python",
   "pygments_lexer": "ipython3",
   "version": "3.9.7"
  }
 },
 "nbformat": 4,
 "nbformat_minor": 5
}
